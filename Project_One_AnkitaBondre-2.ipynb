{
 "cells": [
  {
   "cell_type": "markdown",
   "metadata": {
    "id": "WLhYPppK5P_I"
   },
   "source": [
    "# 1. Build your own convolutional neural network using p"
   ]
  },
  {
   "cell_type": "code",
   "execution_count": 1,
   "metadata": {
    "colab": {
     "base_uri": "https://localhost:8080/"
    },
    "id": "v-4i02q1dth1",
    "outputId": "3ad1c936-fbee-4654-b3b2-7f54249aa09e"
   },
   "outputs": [
    {
     "name": "stdout",
     "output_type": "stream",
     "text": [
      "Mounted at /content/drive\n"
     ]
    }
   ],
   "source": [
    "from google.colab import drive\n",
    "\n",
    "# Mount your Google Drive\n",
    "drive.mount('/content/drive')"
   ]
  },
  {
   "cell_type": "code",
   "execution_count": 2,
   "metadata": {
    "id": "9r_5Q26IdvGQ"
   },
   "outputs": [],
   "source": [
    "import torch\n",
    "import torch.nn as nn\n",
    "\n",
    "# Residual Block Definition\n",
    "class ResidualBlock(nn.Module):\n",
    "    def __init__(self, in_channels, out_channels, stride=1):\n",
    "        super(ResidualBlock, self).__init__()\n",
    "        self.conv1 = nn.Conv2d(in_channels, out_channels, kernel_size=3, stride=stride, padding=1)\n",
    "        self.bn1 = nn.BatchNorm2d(out_channels)  # BatchNorm\n",
    "        self.relu = nn.ReLU(inplace=True)\n",
    "        self.conv2 = nn.Conv2d(out_channels, out_channels, kernel_size=3, stride=1, padding=1)\n",
    "        self.bn2 = nn.BatchNorm2d(out_channels)\n",
    "\n",
    "        # Shortcut connection for residual learning\n",
    "        self.shortcut = nn.Sequential()\n",
    "        if stride != 1 or in_channels != out_channels:\n",
    "            self.shortcut = nn.Sequential(\n",
    "                nn.Conv2d(in_channels, out_channels, kernel_size=1, stride=stride),\n",
    "                nn.BatchNorm2d(out_channels)\n",
    "            )\n",
    "\n",
    "    def forward(self, x):\n",
    "        identity = self.shortcut(x)\n",
    "        out = self.relu(self.bn1(self.conv1(x)))\n",
    "        out = self.bn2(self.conv2(out))\n",
    "        out += identity\n",
    "        return self.relu(out)\n",
    "\n",
    "# CNN Model with 5 Convolutional Layers (including Residuals)\n",
    "class DogHeartCNN5(nn.Module):\n",
    "    def __init__(self):\n",
    "        super(DogHeartCNN5, self).__init__()\n",
    "        self.conv_layers = nn.Sequential(\n",
    "            nn.Conv2d(3, 32, kernel_size=3, stride=1, padding=1),  # 128x128 -> 128x128\n",
    "            nn.BatchNorm2d(32),\n",
    "            nn.ReLU(inplace=True),\n",
    "            nn.MaxPool2d(kernel_size=2, stride=2),  # 128x128 -> 64x64\n",
    "\n",
    "            ResidualBlock(32, 64, stride=2),  # Downsample 64x64 -> 32x32\n",
    "            ResidualBlock(64, 64),  # 32x32 -> 32x32\n",
    "\n",
    "            nn.Conv2d(64, 128, kernel_size=3, stride=1, padding=1),  # 32x32 -> 32x32\n",
    "            nn.BatchNorm2d(128),\n",
    "            nn.ReLU(inplace=True),\n",
    "            nn.MaxPool2d(kernel_size=2, stride=2),  # 32x32 -> 16x16\n",
    "\n",
    "            ResidualBlock(128, 256, stride=2),  # Downsample 16x16 -> 8x8\n",
    "            nn.Conv2d(256, 256, kernel_size=3, stride=1, padding=1),  # 8x8 -> 8x8\n",
    "            nn.BatchNorm2d(256),\n",
    "            nn.ReLU(inplace=True),\n",
    "            nn.MaxPool2d(kernel_size=2, stride=2),  # 8x8 -> 4x4\n",
    "\n",
    "            nn.Conv2d(256, 512, kernel_size=3, stride=1, padding=1),  # Additional layer\n",
    "            nn.BatchNorm2d(512),\n",
    "            nn.ReLU(inplace=True),\n",
    "            nn.MaxPool2d(kernel_size=2, stride=2)  # 4x4 -> 2x2\n",
    "        )\n",
    "\n",
    "        # Adaptive Global Average Pooling\n",
    "        self.gap = nn.AdaptiveAvgPool2d(1)  # Output: 512x1x1\n",
    "\n",
    "        # Fully Connected Layers\n",
    "        self.fc_layers = nn.Sequential(\n",
    "            nn.Linear(512, 512),  # Input 512 from GAP\n",
    "            nn.ReLU(inplace=True),\n",
    "            nn.Dropout(0.5),      # Dropout for regularization\n",
    "            nn.Linear(512, 3)     # Trinary classification (3 classes)\n",
    "        )\n",
    "\n",
    "    def forward(self, x):\n",
    "        x = self.conv_layers(x)\n",
    "        x = self.gap(x)  # Global Average Pooling\n",
    "        x = x.view(x.size(0), -1)  # Flatten to (batch_size, 512)\n",
    "        x = self.fc_layers(x)\n",
    "        return x"
   ]
  },
  {
   "cell_type": "code",
   "execution_count": 3,
   "metadata": {
    "colab": {
     "base_uri": "https://localhost:8080/"
    },
    "id": "rmj9Gp98dvNS",
    "outputId": "4a37f46b-47fe-45a8-a919-69993ced1456"
   },
   "outputs": [
    {
     "name": "stdout",
     "output_type": "stream",
     "text": [
      "Classes: ['Large', 'Normal', 'Small']\n"
     ]
    }
   ],
   "source": [
    "import torch\n",
    "from torchvision import datasets, transforms\n",
    "from torch.utils.data import DataLoader\n",
    "\n",
    "# Define the transformations\n",
    "train_transform = transforms.Compose([\n",
    "    transforms.Resize((128, 128)), # Random crop and resize to 128x128\n",
    "    transforms.RandomHorizontalFlip(),  # Randomly flip the image horizontally\n",
    "    #transforms.RandomRotation(20),     # Random rotation between -20 and 20 degrees\n",
    "    #transforms.ColorJitter(brightness=0.2, contrast=0.2, saturation=0.2, hue=0.2),  # Random color adjustments\n",
    "    transforms.ToTensor(),             # Convert image to tensor\n",
    "    transforms.Normalize(mean=[0.485, 0.456, 0.406], std=[0.229, 0.224, 0.225])  # Normalize with ImageNet values\n",
    "])\n",
    "\n",
    "valid_transform = transforms.Compose([\n",
    "    transforms.Resize(128),            # Resize image to 128x128\n",
    "    transforms.CenterCrop(128),        # Crop the center of the image to 128x128\n",
    "    transforms.ToTensor(),             # Convert image to tensor\n",
    "    transforms.Normalize(mean=[0.485, 0.456, 0.406], std=[0.229, 0.224, 0.225])  # Normalize with ImageNet values\n",
    "])\n",
    "\n",
    "# Load training and validation datasets\n",
    "train_dataset = datasets.ImageFolder('/content/drive/MyDrive/Dog_heart/Train', transform=train_transform)\n",
    "valid_dataset = datasets.ImageFolder('/content/drive/MyDrive/Dog_heart/Valid', transform=valid_transform)\n",
    "\n",
    "# Create DataLoaders\n",
    "train_loader = DataLoader(train_dataset, batch_size=32, shuffle=True)\n",
    "valid_loader = DataLoader(valid_dataset, batch_size=32, shuffle=False)\n",
    "\n",
    "# Print class names to verify\n",
    "print(\"Classes:\", train_dataset.classes)\n",
    "\n",
    "# Define device\n",
    "device = torch.device(\"cuda\" if torch.cuda.is_available() else \"cpu\")"
   ]
  },
  {
   "cell_type": "code",
   "execution_count": 4,
   "metadata": {
    "id": "_-zdAFbSd43_"
   },
   "outputs": [],
   "source": [
    "import torch.optim as optim\n",
    "\n",
    "# Initialize model, loss function, and optimizer\n",
    "model = DogHeartCNN5().to(device)\n",
    "criterion = nn.CrossEntropyLoss()  # For multi-class classification\n",
    "optimizer = optim.Adam(model.parameters(), lr=0.001)\n",
    "\n",
    "# Training function with validation\n",
    "def train_and_validate(model, train_loader, valid_loader, criterion, optimizer, epochs=100):\n",
    "    model.train()\n",
    "\n",
    "    for epoch in range(epochs):\n",
    "        running_loss = 0.0\n",
    "        model.train()  # Set model to training mode\n",
    "\n",
    "        # Training loop\n",
    "        for images, labels in train_loader:\n",
    "            images, labels = images.to(device), labels.to(device)\n",
    "\n",
    "            # Zero the parameter gradients\n",
    "            optimizer.zero_grad()\n",
    "\n",
    "            # Forward pass\n",
    "            outputs = model(images)\n",
    "            loss = criterion(outputs, labels)\n",
    "\n",
    "            # Backward pass and optimization\n",
    "            loss.backward()\n",
    "            optimizer.step()\n",
    "\n",
    "            running_loss += loss.item() * images.size(0)\n",
    "\n",
    "        # Calculate average loss for this epoch\n",
    "        train_loss = running_loss / len(train_loader.dataset)\n",
    "\n",
    "        # Validate the model\n",
    "        valid_loss, valid_accuracy = validate_model(model, valid_loader, criterion)\n",
    "\n",
    "        print(f\"Epoch [{epoch + 1}/{epochs}], \"\n",
    "              f\"Train Loss: {train_loss:.4f}, \"\n",
    "              f\"Validation Loss: {valid_loss:.4f}, \"\n",
    "              f\"Validation Accuracy: {valid_accuracy:.2f}%\")\n",
    "\n",
    "# Validation function\n",
    "def validate_model(model, valid_loader, criterion):\n",
    "    model.eval()  # Set model to evaluation mode\n",
    "    running_loss = 0.0\n",
    "    correct = 0\n",
    "    total = 0\n",
    "\n",
    "    with torch.no_grad():\n",
    "        for images, labels in valid_loader:\n",
    "            images, labels = images.to(device), labels.to(device)\n",
    "            outputs = model(images)\n",
    "            loss = criterion(outputs, labels)\n",
    "            running_loss += loss.item() * images.size(0)\n",
    "\n",
    "            # Calculate accuracy\n",
    "            _, predicted = torch.max(outputs, 1)\n",
    "            total += labels.size(0)\n",
    "            correct += (predicted == labels).sum().item()\n",
    "\n",
    "    avg_loss = running_loss / len(valid_loader.dataset)\n",
    "    accuracy = 100 * correct / total\n",
    "    return avg_loss, accuracy"
   ]
  },
  {
   "cell_type": "markdown",
   "metadata": {
    "id": "M-k9DLt05ZJh"
   },
   "source": [
    "# 2. Train your model using dog heart dataset (you may need to use  Google Colab (or Kaggle) with GPU to train your code)\n",
    "\n",
    "### (1) use torchvision.datasets.ImageFolder for the training dataset\n",
    "### (2) use custom dataloader for test dataset (return image tensor and file name)"
   ]
  },
  {
   "cell_type": "code",
   "execution_count": 5,
   "metadata": {
    "colab": {
     "base_uri": "https://localhost:8080/"
    },
    "id": "4tUeBnOFeAoH",
    "outputId": "c11b97f7-59a0-417b-a9c1-3f2d58e0e734"
   },
   "outputs": [
    {
     "name": "stdout",
     "output_type": "stream",
     "text": [
      "Epoch [1/100], Train Loss: 1.0493, Validation Loss: 0.8863, Validation Accuracy: 55.00%\n",
      "Epoch [2/100], Train Loss: 0.8614, Validation Loss: 0.7544, Validation Accuracy: 63.50%\n",
      "Epoch [3/100], Train Loss: 0.7663, Validation Loss: 1.2494, Validation Accuracy: 45.00%\n",
      "Epoch [4/100], Train Loss: 0.7065, Validation Loss: 0.6495, Validation Accuracy: 68.50%\n",
      "Epoch [5/100], Train Loss: 0.6673, Validation Loss: 0.7261, Validation Accuracy: 67.50%\n",
      "Epoch [6/100], Train Loss: 0.6475, Validation Loss: 0.6727, Validation Accuracy: 63.50%\n",
      "Epoch [7/100], Train Loss: 0.6003, Validation Loss: 0.9476, Validation Accuracy: 64.00%\n",
      "Epoch [8/100], Train Loss: 0.6583, Validation Loss: 0.6930, Validation Accuracy: 68.50%\n",
      "Epoch [9/100], Train Loss: 0.6054, Validation Loss: 0.7618, Validation Accuracy: 62.50%\n",
      "Epoch [10/100], Train Loss: 0.5802, Validation Loss: 0.7882, Validation Accuracy: 65.50%\n",
      "Epoch [11/100], Train Loss: 0.5494, Validation Loss: 0.9134, Validation Accuracy: 58.50%\n",
      "Epoch [12/100], Train Loss: 0.5511, Validation Loss: 0.7819, Validation Accuracy: 61.00%\n",
      "Epoch [13/100], Train Loss: 0.5072, Validation Loss: 0.8151, Validation Accuracy: 62.50%\n",
      "Epoch [14/100], Train Loss: 0.4995, Validation Loss: 0.9751, Validation Accuracy: 55.00%\n",
      "Epoch [15/100], Train Loss: 0.4843, Validation Loss: 0.6697, Validation Accuracy: 68.00%\n",
      "Epoch [16/100], Train Loss: 0.4411, Validation Loss: 0.7877, Validation Accuracy: 65.50%\n",
      "Epoch [17/100], Train Loss: 0.4251, Validation Loss: 0.7239, Validation Accuracy: 63.50%\n",
      "Epoch [18/100], Train Loss: 0.3812, Validation Loss: 0.8095, Validation Accuracy: 65.00%\n",
      "Epoch [19/100], Train Loss: 0.3574, Validation Loss: 1.0319, Validation Accuracy: 61.00%\n",
      "Epoch [20/100], Train Loss: 0.3528, Validation Loss: 0.9343, Validation Accuracy: 61.00%\n",
      "Epoch [21/100], Train Loss: 0.3086, Validation Loss: 0.8528, Validation Accuracy: 66.00%\n",
      "Epoch [22/100], Train Loss: 0.2987, Validation Loss: 2.4024, Validation Accuracy: 47.00%\n",
      "Epoch [23/100], Train Loss: 0.2684, Validation Loss: 1.8004, Validation Accuracy: 56.50%\n",
      "Epoch [24/100], Train Loss: 0.2556, Validation Loss: 1.8566, Validation Accuracy: 58.00%\n",
      "Epoch [25/100], Train Loss: 0.2240, Validation Loss: 1.3815, Validation Accuracy: 62.50%\n",
      "Epoch [26/100], Train Loss: 0.1943, Validation Loss: 1.5292, Validation Accuracy: 56.50%\n",
      "Epoch [27/100], Train Loss: 0.2125, Validation Loss: 1.2197, Validation Accuracy: 68.50%\n",
      "Epoch [28/100], Train Loss: 0.2257, Validation Loss: 1.8885, Validation Accuracy: 55.00%\n",
      "Epoch [29/100], Train Loss: 0.1457, Validation Loss: 1.6464, Validation Accuracy: 62.00%\n",
      "Epoch [30/100], Train Loss: 0.1649, Validation Loss: 1.0196, Validation Accuracy: 69.50%\n",
      "Epoch [31/100], Train Loss: 0.1401, Validation Loss: 1.3430, Validation Accuracy: 61.50%\n",
      "Epoch [32/100], Train Loss: 0.1311, Validation Loss: 2.3785, Validation Accuracy: 61.00%\n",
      "Epoch [33/100], Train Loss: 0.2090, Validation Loss: 1.2019, Validation Accuracy: 65.50%\n",
      "Epoch [34/100], Train Loss: 0.1316, Validation Loss: 1.2017, Validation Accuracy: 69.50%\n",
      "Epoch [35/100], Train Loss: 0.0958, Validation Loss: 1.2766, Validation Accuracy: 66.50%\n",
      "Epoch [36/100], Train Loss: 0.0788, Validation Loss: 2.0074, Validation Accuracy: 62.00%\n",
      "Epoch [37/100], Train Loss: 0.0995, Validation Loss: 1.4164, Validation Accuracy: 60.50%\n",
      "Epoch [38/100], Train Loss: 0.0987, Validation Loss: 1.4690, Validation Accuracy: 66.50%\n",
      "Epoch [39/100], Train Loss: 0.1053, Validation Loss: 1.9496, Validation Accuracy: 57.50%\n",
      "Epoch [40/100], Train Loss: 0.0750, Validation Loss: 1.4139, Validation Accuracy: 69.50%\n",
      "Epoch [41/100], Train Loss: 0.0758, Validation Loss: 1.7231, Validation Accuracy: 67.50%\n",
      "Epoch [42/100], Train Loss: 0.0754, Validation Loss: 1.8600, Validation Accuracy: 62.00%\n",
      "Epoch [43/100], Train Loss: 0.0864, Validation Loss: 2.0970, Validation Accuracy: 62.50%\n",
      "Epoch [44/100], Train Loss: 0.1243, Validation Loss: 1.2974, Validation Accuracy: 67.50%\n",
      "Epoch [45/100], Train Loss: 0.0892, Validation Loss: 1.5688, Validation Accuracy: 65.50%\n",
      "Epoch [46/100], Train Loss: 0.0530, Validation Loss: 1.7713, Validation Accuracy: 63.50%\n",
      "Epoch [47/100], Train Loss: 0.0706, Validation Loss: 1.9194, Validation Accuracy: 64.50%\n",
      "Epoch [48/100], Train Loss: 0.0753, Validation Loss: 1.4183, Validation Accuracy: 64.50%\n",
      "Epoch [49/100], Train Loss: 0.0651, Validation Loss: 3.1077, Validation Accuracy: 57.00%\n",
      "Epoch [50/100], Train Loss: 0.0653, Validation Loss: 1.8007, Validation Accuracy: 67.50%\n",
      "Epoch [51/100], Train Loss: 0.0589, Validation Loss: 1.5351, Validation Accuracy: 67.00%\n",
      "Epoch [52/100], Train Loss: 0.0601, Validation Loss: 1.7641, Validation Accuracy: 68.00%\n",
      "Epoch [53/100], Train Loss: 0.0461, Validation Loss: 2.0877, Validation Accuracy: 66.50%\n",
      "Epoch [54/100], Train Loss: 0.0607, Validation Loss: 2.0770, Validation Accuracy: 66.00%\n",
      "Epoch [55/100], Train Loss: 0.0458, Validation Loss: 1.7773, Validation Accuracy: 63.50%\n",
      "Epoch [56/100], Train Loss: 0.0737, Validation Loss: 1.9791, Validation Accuracy: 59.50%\n",
      "Epoch [57/100], Train Loss: 0.0516, Validation Loss: 1.8049, Validation Accuracy: 61.00%\n",
      "Epoch [58/100], Train Loss: 0.0852, Validation Loss: 1.3896, Validation Accuracy: 65.00%\n",
      "Epoch [59/100], Train Loss: 0.0192, Validation Loss: 1.9715, Validation Accuracy: 66.50%\n",
      "Epoch [60/100], Train Loss: 0.0327, Validation Loss: 1.7013, Validation Accuracy: 65.50%\n",
      "Epoch [61/100], Train Loss: 0.0352, Validation Loss: 1.4680, Validation Accuracy: 70.50%\n",
      "Epoch [62/100], Train Loss: 0.0456, Validation Loss: 1.6739, Validation Accuracy: 65.50%\n",
      "Epoch [63/100], Train Loss: 0.0553, Validation Loss: 1.9219, Validation Accuracy: 60.50%\n",
      "Epoch [64/100], Train Loss: 0.0511, Validation Loss: 1.6928, Validation Accuracy: 65.50%\n",
      "Epoch [65/100], Train Loss: 0.0302, Validation Loss: 1.7175, Validation Accuracy: 69.00%\n",
      "Epoch [66/100], Train Loss: 0.0330, Validation Loss: 1.7592, Validation Accuracy: 64.00%\n",
      "Epoch [67/100], Train Loss: 0.0267, Validation Loss: 1.6376, Validation Accuracy: 66.50%\n",
      "Epoch [68/100], Train Loss: 0.0307, Validation Loss: 2.0659, Validation Accuracy: 67.50%\n",
      "Epoch [69/100], Train Loss: 0.0159, Validation Loss: 1.9650, Validation Accuracy: 65.00%\n",
      "Epoch [70/100], Train Loss: 0.0442, Validation Loss: 3.1854, Validation Accuracy: 57.00%\n",
      "Epoch [71/100], Train Loss: 0.0447, Validation Loss: 1.6635, Validation Accuracy: 69.00%\n",
      "Epoch [72/100], Train Loss: 0.0572, Validation Loss: 2.7037, Validation Accuracy: 59.50%\n",
      "Epoch [73/100], Train Loss: 0.0680, Validation Loss: 1.5517, Validation Accuracy: 67.00%\n",
      "Epoch [74/100], Train Loss: 0.0642, Validation Loss: 1.6393, Validation Accuracy: 65.50%\n",
      "Epoch [75/100], Train Loss: 0.0113, Validation Loss: 1.8989, Validation Accuracy: 69.00%\n",
      "Epoch [76/100], Train Loss: 0.0285, Validation Loss: 2.8103, Validation Accuracy: 63.00%\n",
      "Epoch [77/100], Train Loss: 0.0395, Validation Loss: 2.3724, Validation Accuracy: 61.50%\n",
      "Epoch [78/100], Train Loss: 0.0268, Validation Loss: 2.1028, Validation Accuracy: 63.50%\n",
      "Epoch [79/100], Train Loss: 0.0440, Validation Loss: 3.4442, Validation Accuracy: 57.00%\n",
      "Epoch [80/100], Train Loss: 0.0781, Validation Loss: 3.3535, Validation Accuracy: 53.00%\n",
      "Epoch [81/100], Train Loss: 0.0543, Validation Loss: 1.5731, Validation Accuracy: 66.00%\n",
      "Epoch [82/100], Train Loss: 0.0230, Validation Loss: 1.6292, Validation Accuracy: 67.50%\n",
      "Epoch [83/100], Train Loss: 0.0109, Validation Loss: 2.2225, Validation Accuracy: 64.50%\n",
      "Epoch [84/100], Train Loss: 0.0676, Validation Loss: 2.6358, Validation Accuracy: 63.00%\n",
      "Epoch [85/100], Train Loss: 0.1075, Validation Loss: 1.9621, Validation Accuracy: 58.00%\n",
      "Epoch [86/100], Train Loss: 0.0573, Validation Loss: 1.7532, Validation Accuracy: 67.00%\n",
      "Epoch [87/100], Train Loss: 0.0294, Validation Loss: 1.8847, Validation Accuracy: 65.00%\n",
      "Epoch [88/100], Train Loss: 0.0200, Validation Loss: 1.9008, Validation Accuracy: 66.50%\n",
      "Epoch [89/100], Train Loss: 0.0222, Validation Loss: 2.1789, Validation Accuracy: 64.50%\n",
      "Epoch [90/100], Train Loss: 0.0145, Validation Loss: 2.2710, Validation Accuracy: 65.50%\n",
      "Epoch [91/100], Train Loss: 0.0128, Validation Loss: 2.4188, Validation Accuracy: 64.00%\n",
      "Epoch [92/100], Train Loss: 0.0199, Validation Loss: 2.7232, Validation Accuracy: 64.00%\n",
      "Epoch [93/100], Train Loss: 0.0377, Validation Loss: 1.8770, Validation Accuracy: 67.50%\n",
      "Epoch [94/100], Train Loss: 0.0248, Validation Loss: 2.1608, Validation Accuracy: 65.50%\n",
      "Epoch [95/100], Train Loss: 0.0122, Validation Loss: 2.8130, Validation Accuracy: 62.00%\n",
      "Epoch [96/100], Train Loss: 0.0156, Validation Loss: 2.4502, Validation Accuracy: 65.50%\n",
      "Epoch [97/100], Train Loss: 0.0173, Validation Loss: 2.4565, Validation Accuracy: 64.50%\n",
      "Epoch [98/100], Train Loss: 0.0306, Validation Loss: 2.8506, Validation Accuracy: 64.00%\n",
      "Epoch [99/100], Train Loss: 0.0425, Validation Loss: 1.7187, Validation Accuracy: 68.00%\n",
      "Epoch [100/100], Train Loss: 0.0162, Validation Loss: 1.9092, Validation Accuracy: 68.00%\n"
     ]
    }
   ],
   "source": [
    "# Train and validate the model\n",
    "train_and_validate(model, train_loader, valid_loader, criterion, optimizer, epochs=100)\n",
    "\n",
    "# Save the trained model\n",
    "torch.save(model.state_dict(), '/content/drive/MyDrive/dogheart_cnn5_multiclass.pth')"
   ]
  },
  {
   "cell_type": "code",
   "execution_count": 12,
   "metadata": {
    "colab": {
     "base_uri": "https://localhost:8080/"
    },
    "id": "pr8t3n5-eEL8",
    "outputId": "58950ac6-ceca-4ff3-ad1c-8086363f3d1d"
   },
   "outputs": [
    {
     "name": "stdout",
     "output_type": "stream",
     "text": [
      "Predictions saved to predictionsCNN5.csv\n"
     ]
    }
   ],
   "source": [
    "# 3. Evaluate your model using the developed software\n",
    "import os\n",
    "from PIL import Image  # Import this at the top of your script\n",
    "import pandas as pd\n",
    "import csv\n",
    "# Now you can use Image.open() to load images\n",
    "\n",
    "# Define numeric class labels\n",
    "class_labels = ['Large', 'Normal', 'Small']  # 0 -> Large, 1 -> Normal, 2 -> Small\n",
    "label_mapping = {0: 'Large', 1: 'Normal', 2: 'Small'}\n",
    "\n",
    "# Define a custom test dataset and DataLoader\n",
    "test_dir = '/content/drive/MyDrive/Test'  # Replace with your test directory\n",
    "test_transform = transforms.Compose([\n",
    "    transforms.Resize((128, 128)),\n",
    "    transforms.ToTensor(),\n",
    "    transforms.Normalize([0.485, 0.456, 0.406], [0.229, 0.224, 0.225])\n",
    "])\n",
    "\n",
    "class CustomTestDataset(torch.utils.data.Dataset):\n",
    "    def __init__(self, directory, transform=None):\n",
    "        self.directory = directory\n",
    "        self.transform = transform\n",
    "        self.images = [f for f in os.listdir(directory) if f.endswith('.jpg') or f.endswith('.png')]\n",
    "\n",
    "    def __len__(self):\n",
    "        return len(self.images)\n",
    "\n",
    "    def __getitem__(self, idx):\n",
    "        img_name = os.path.join(self.directory, self.images[idx])\n",
    "        image = Image.open(img_name).convert(\"RGB\")\n",
    "\n",
    "        if self.transform:\n",
    "            image = self.transform(image)\n",
    "\n",
    "        return image, self.images[idx]\n",
    "\n",
    "test_dataset = CustomTestDataset(test_dir, transform=test_transform)\n",
    "test_loader = DataLoader(test_dataset, batch_size=32, shuffle=False)\n",
    "\n",
    "# Make predictions and save to CSV\n",
    "predictions = []\n",
    "\n",
    "model.eval()  # Set model to evaluation mode\n",
    "correct = 0\n",
    "total = 0\n",
    "\n",
    "with torch.no_grad():\n",
    "    for images, filenames in test_loader:\n",
    "        images = images.to(device)\n",
    "        outputs = model(images)\n",
    "        _, predicted = torch.max(outputs, 1)  # Get class predictions for the batch\n",
    "\n",
    "        # Loop through the batch and store predictions for each image\n",
    "        for i in range(len(filenames)):\n",
    "            predicted_label = predicted[i].item()  # Get the prediction for each image in the batch\n",
    "            predicted_class = label_mapping[predicted_label]\n",
    "\n",
    "            # Save predictions\n",
    "            predictions.append([filenames[i], predicted_label])  # Save filename and numeric label\n",
    "\n",
    "            #print(f\"Image: {filenames[i]} - Predicted Label: {predicted_label} ({predicted_class})\")\n",
    "\n",
    "# Save predictions to a CSV file\n",
    "results_df = pd.DataFrame(predictions, columns=[\"Filename\", \"Predicted Label\"])\n",
    "results_df.to_csv('/content/drive/MyDrive/predictionsCNN5.csv', index=False, header=False)\n",
    "print(\"Predictions saved to predictionsCNN5.csv\")"
   ]
  },
  {
   "cell_type": "markdown",
   "metadata": {
    "id": "aXliUqTk5cuQ"
   },
   "source": [
    "# 3. Evaluate your model using the developed software\n",
    "\n",
    "![Screenshot 2024-11-20 at 6.07.18 PM.png](data:image/png;base64,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))"
   ]
  },
  {
   "cell_type": "markdown",
   "metadata": {
    "id": "nBOg4xp65zlA"
   },
   "source": [
    "# 4. Compare results with [RVT paper](https://www.nature.com/articles/s41598-023-50063-x). Requirement: performance is better than VGG16: 75%\n",
    "\n",
    "I am getting accuracy of 70.75%"
   ]
  },
  {
   "cell_type": "markdown",
   "metadata": {
    "id": "v2v0yrq256Ye"
   },
   "source": [
    "# 5. Write a four-page paper report using the shared LaTex template. Upload your paper to ResearchGate or Arxiv, and put your paper link and GitHub weight link here.\n",
    "\n"
   ]
  },
  {
   "cell_type": "markdown",
   "metadata": {
    "id": "9GZSxUpx-HjY"
   },
   "source": [
    "https://www.researchgate.net/publication/385945663_Evaluating_Cardiomegaly_in_Dogs_Using_a_CNN_Model\n",
    "\n",
    "https://github.com/ankita130698/Cardiomegaly-in-Dogs-Using-a-CNN-Model/blob/main/dog_heart_model_100.pth"
   ]
  },
  {
   "cell_type": "markdown",
   "metadata": {
    "id": "MqOfVdXK5sjS"
   },
   "source": []
  }
 ],
 "metadata": {
  "accelerator": "GPU",
  "colab": {
   "gpuType": "T4",
   "provenance": []
  },
  "kernelspec": {
   "display_name": "Python [conda env:base] *",
   "language": "python",
   "name": "conda-base-py"
  },
  "language_info": {
   "codemirror_mode": {
    "name": "ipython",
    "version": 3
   },
   "file_extension": ".py",
   "mimetype": "text/x-python",
   "name": "python",
   "nbconvert_exporter": "python",
   "pygments_lexer": "ipython3",
   "version": "3.12.7"
  }
 },
 "nbformat": 4,
 "nbformat_minor": 4
}
